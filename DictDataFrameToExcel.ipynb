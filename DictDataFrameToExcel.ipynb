{
 "cells": [
  {
   "cell_type": "code",
   "execution_count": 1,
   "id": "d3ee1694",
   "metadata": {},
   "outputs": [
    {
     "name": "stdout",
     "output_type": "stream",
     "text": [
      "       Name  Age         City\n",
      "0     Alice   25     New York\n",
      "1       Bob   30  Los Angeles\n",
      "2   Charlie   28      Chicago\n",
      "3       sam   25    Las vegas\n",
      "4       sia   30  wasigntondc\n",
      "5      john   23      Chicago\n",
      "6    joshua   21      arizona\n",
      "7  samantha   27    new jursy\n"
     ]
    }
   ],
   "source": [
    "import pandas as pd\n",
    "\n",
    "# Sample list of dictionaries (each dict is a row)\n",
    "data = [\n",
    "    {\"Name\": \"Alice\", \"Age\": 25, \"City\": \"New York\"},\n",
    "    {\"Name\": \"Bob\", \"Age\": 30, \"City\": \"Los Angeles\"},\n",
    "    {\"Name\": \"Charlie\", \"Age\": 28, \"City\": \"Chicago\"},\n",
    "    {\"Name\": \"sam\", \"Age\": 25, \"City\": \"Las vegas\"},\n",
    "    {\"Name\": \"sia\", \"Age\": 30, \"City\": \"wasigntondc\"},\n",
    "    {\"Name\": \"john\", \"Age\": 23, \"City\": \"Chicago\"},\n",
    "    {\"Name\": \"joshua\", \"Age\": 21, \"City\": \"arizona\"},\n",
    "    {\"Name\": \"samantha\", \"Age\": 27, \"City\": \"new jursy\"},\n",
    "]\n",
    "\n",
    "# Convert list to DataFrame\n",
    "df = pd.DataFrame(data)\n",
    "\n",
    "# Display DataFrame\n",
    "print(df)"
   ]
  },
  {
   "cell_type": "code",
   "execution_count": 2,
   "id": "a4dbcaf4",
   "metadata": {},
   "outputs": [],
   "source": [
    "# Save to Excel\n",
    "df.to_excel(\"output.xlsx\", index=False)  # index=False avoids extra index column\n"
   ]
  },
  {
   "cell_type": "code",
   "execution_count": 4,
   "id": "c2132171",
   "metadata": {},
   "outputs": [
    {
     "name": "stdout",
     "output_type": "stream",
     "text": [
      "Excel file saved at: D:\\swap\\output.xlsx\n"
     ]
    }
   ],
   "source": [
    "file_path = r\"D:\\swap\\output.xlsx\"  # Use 'r' to avoid path issues\n",
    "\n",
    "df.to_excel(file_path, index=False)\n",
    "\n",
    "print(f\"Excel file saved at: {file_path}\")\n"
   ]
  },
  {
   "cell_type": "code",
   "execution_count": null,
   "id": "70d373c8",
   "metadata": {},
   "outputs": [],
   "source": []
  }
 ],
 "metadata": {
  "kernelspec": {
   "display_name": "Python 3 (ipykernel)",
   "language": "python",
   "name": "python3"
  },
  "language_info": {
   "codemirror_mode": {
    "name": "ipython",
    "version": 3
   },
   "file_extension": ".py",
   "mimetype": "text/x-python",
   "name": "python",
   "nbconvert_exporter": "python",
   "pygments_lexer": "ipython3",
   "version": "3.11.4"
  }
 },
 "nbformat": 4,
 "nbformat_minor": 5
}
