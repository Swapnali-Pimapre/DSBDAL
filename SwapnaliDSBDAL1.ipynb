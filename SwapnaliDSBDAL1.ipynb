{
 "cells": [
  {
   "cell_type": "code",
   "execution_count": 2,
   "id": "0cd0cbf0",
   "metadata": {},
   "outputs": [],
   "source": [
    "import numpy as np"
   ]
  },
  {
   "cell_type": "code",
   "execution_count": 3,
   "id": "4b41c9ac",
   "metadata": {},
   "outputs": [
    {
     "data": {
      "text/plain": [
       "array([[100, 200, 150, 300],\n",
       "       [ 50,  60,  40,  80],\n",
       "       [300, 400, 350, 500],\n",
       "       [200, 250, 220, 270],\n",
       "       [ 80,  90,  70, 100]])"
      ]
     },
     "execution_count": 3,
     "metadata": {},
     "output_type": "execute_result"
    }
   ],
   "source": [
    "arr = np.array([\n",
    "    [100, 200, 150, 300],  # Product 1\n",
    "    [50, 60, 40, 80],      # Product 2\n",
    "    [300, 400, 350, 500],  # Product 3\n",
    "    [200, 250, 220, 270],  # Product 4\n",
    "    [80, 90, 70, 100]      # Product 5\n",
    "])\n",
    "arr"
   ]
  },
  {
   "cell_type": "code",
   "execution_count": 6,
   "id": "c743c6bc",
   "metadata": {},
   "outputs": [
    {
     "data": {
      "text/plain": [
       "(5, 4)"
      ]
     },
     "execution_count": 6,
     "metadata": {},
     "output_type": "execute_result"
    }
   ],
   "source": [
    "#Determine the number of dimensions of the array.\n",
    "arr.shape"
   ]
  },
  {
   "cell_type": "code",
   "execution_count": 7,
   "id": "af59cf1e",
   "metadata": {},
   "outputs": [
    {
     "data": {
      "text/plain": [
       "dtype('int32')"
      ]
     },
     "execution_count": 7,
     "metadata": {},
     "output_type": "execute_result"
    }
   ],
   "source": [
    "\n",
    "arr.dtype"
   ]
  },
  {
   "cell_type": "code",
   "execution_count": 8,
   "id": "660ae05e",
   "metadata": {},
   "outputs": [
    {
     "data": {
      "text/plain": [
       "20"
      ]
     },
     "execution_count": 8,
     "metadata": {},
     "output_type": "execute_result"
    }
   ],
   "source": [
    "#Identify the data type of elements in the array.\n",
    "arr.size"
   ]
  },
  {
   "cell_type": "code",
   "execution_count": 9,
   "id": "b8a1ae77",
   "metadata": {},
   "outputs": [
    {
     "data": {
      "text/plain": [
       "80"
      ]
     },
     "execution_count": 9,
     "metadata": {},
     "output_type": "execute_result"
    }
   ],
   "source": [
    "#Find the total memory (in bytes) used by the array.\n",
    "arr.nbytes"
   ]
  },
  {
   "cell_type": "code",
   "execution_count": 16,
   "id": "cf2b597a",
   "metadata": {},
   "outputs": [
    {
     "data": {
      "text/plain": [
       "array([[100, 200, 150, 300],\n",
       "       [ 50,  60,  40,  80],\n",
       "       [300, 400, 350, 500],\n",
       "       [200, 250, 220, 270],\n",
       "       [ 80,  90,  70, 100]])"
      ]
     },
     "execution_count": 16,
     "metadata": {},
     "output_type": "execute_result"
    }
   ],
   "source": [
    "arr"
   ]
  },
  {
   "cell_type": "code",
   "execution_count": 17,
   "id": "fda7a9f4",
   "metadata": {},
   "outputs": [],
   "source": [
    "#Add 20 units of stock to all products across all locations.\n",
    "arr +=20"
   ]
  },
  {
   "cell_type": "code",
   "execution_count": 18,
   "id": "85fdab2d",
   "metadata": {},
   "outputs": [
    {
     "data": {
      "text/plain": [
       "array([[120, 220, 170, 320],\n",
       "       [ 70,  80,  60, 100],\n",
       "       [320, 420, 370, 520],\n",
       "       [220, 270, 240, 290],\n",
       "       [100, 110,  90, 120]])"
      ]
     },
     "execution_count": 18,
     "metadata": {},
     "output_type": "execute_result"
    }
   ],
   "source": [
    "arr"
   ]
  },
  {
   "cell_type": "code",
   "execution_count": 19,
   "id": "ba1dff03",
   "metadata": {},
   "outputs": [],
   "source": [
    "#Deduct 10 units of stock from Product 3 across all locations.\n",
    "arr[2] -=10"
   ]
  },
  {
   "cell_type": "code",
   "execution_count": 20,
   "id": "815071f7",
   "metadata": {},
   "outputs": [
    {
     "data": {
      "text/plain": [
       "array([[120, 220, 170, 320],\n",
       "       [ 70,  80,  60, 100],\n",
       "       [310, 410, 360, 510],\n",
       "       [220, 270, 240, 290],\n",
       "       [100, 110,  90, 120]])"
      ]
     },
     "execution_count": 20,
     "metadata": {},
     "output_type": "execute_result"
    }
   ],
   "source": [
    "arr"
   ]
  },
  {
   "cell_type": "code",
   "execution_count": 21,
   "id": "2da5d548",
   "metadata": {},
   "outputs": [],
   "source": [
    "#Double the stock of all products at Location 2 (column 2).\n",
    "arr[:,1] *=2"
   ]
  },
  {
   "cell_type": "code",
   "execution_count": 22,
   "id": "3fc0d9ca",
   "metadata": {},
   "outputs": [
    {
     "data": {
      "text/plain": [
       "array([[120, 440, 170, 320],\n",
       "       [ 70, 160,  60, 100],\n",
       "       [310, 820, 360, 510],\n",
       "       [220, 540, 240, 290],\n",
       "       [100, 220,  90, 120]])"
      ]
     },
     "execution_count": 22,
     "metadata": {},
     "output_type": "execute_result"
    }
   ],
   "source": [
    "arr"
   ]
  },
  {
   "cell_type": "code",
   "execution_count": 23,
   "id": "8dfbee6a",
   "metadata": {},
   "outputs": [],
   "source": [
    "#Calculate the percentage of stock available for each product at all locations, \n",
    "#assuming the maximum capacity of each location is 1000 units.\n",
    "max_cap=1000\n",
    "\n",
    "percentage=(arr/max_cap)*100"
   ]
  },
  {
   "cell_type": "code",
   "execution_count": 24,
   "id": "860bcf05",
   "metadata": {},
   "outputs": [
    {
     "data": {
      "text/plain": [
       "array([[120, 440, 170, 320],\n",
       "       [ 70, 160,  60, 100],\n",
       "       [310, 820, 360, 510],\n",
       "       [220, 540, 240, 290],\n",
       "       [100, 220,  90, 120]])"
      ]
     },
     "execution_count": 24,
     "metadata": {},
     "output_type": "execute_result"
    }
   ],
   "source": [
    "arr"
   ]
  },
  {
   "cell_type": "code",
   "execution_count": 25,
   "id": "5306ca92",
   "metadata": {},
   "outputs": [
    {
     "data": {
      "text/plain": [
       "array([[12., 44., 17., 32.],\n",
       "       [ 7., 16.,  6., 10.],\n",
       "       [31., 82., 36., 51.],\n",
       "       [22., 54., 24., 29.],\n",
       "       [10., 22.,  9., 12.]])"
      ]
     },
     "execution_count": 25,
     "metadata": {},
     "output_type": "execute_result"
    }
   ],
   "source": [
    "percentage"
   ]
  },
  {
   "cell_type": "code",
   "execution_count": 33,
   "id": "0f00bd4c",
   "metadata": {},
   "outputs": [
    {
     "data": {
      "text/plain": [
       "array([[120, 440, 170, 320],\n",
       "       [ 70, 160,  60, 100],\n",
       "       [310, 820, 360, 510],\n",
       "       [220, 540, 240, 290],\n",
       "       [100, 220,  90, 120]])"
      ]
     },
     "execution_count": 33,
     "metadata": {},
     "output_type": "execute_result"
    }
   ],
   "source": [
    "arr"
   ]
  },
  {
   "cell_type": "code",
   "execution_count": 7,
   "id": "17bc217b",
   "metadata": {},
   "outputs": [
    {
     "data": {
      "text/plain": [
       "array([ 750,  230, 1550,  940,  340])"
      ]
     },
     "execution_count": 7,
     "metadata": {},
     "output_type": "execute_result"
    }
   ],
   "source": [
    "#Calculate the total stock of each product across all locations.\n",
    "total=np.sum(arr,axis=1)\n",
    "total"
   ]
  },
  {
   "cell_type": "code",
   "execution_count": 5,
   "id": "2574c83f",
   "metadata": {},
   "outputs": [
    {
     "data": {
      "text/plain": [
       "array([ 730, 1000,  830, 1250])"
      ]
     },
     "execution_count": 5,
     "metadata": {},
     "output_type": "execute_result"
    }
   ],
   "source": [
    "#Determine the total stock available in each location.\n",
    "total_s=arr.sum(axis=0)\n",
    "total_s"
   ]
  },
  {
   "cell_type": "code",
   "execution_count": 9,
   "id": "6d252bca",
   "metadata": {},
   "outputs": [
    {
     "data": {
      "text/plain": [
       "1550"
      ]
     },
     "execution_count": 9,
     "metadata": {},
     "output_type": "execute_result"
    }
   ],
   "source": [
    "#Find the product with the maximum total stock across all locations.5 gtb   \n",
    "max_product=total.argmax()\n",
    "max_product=total[max_product]\n",
    "max_product\n"
   ]
  },
  {
   "cell_type": "code",
   "execution_count": 10,
   "id": "a2a6bd59",
   "metadata": {},
   "outputs": [
    {
     "data": {
      "text/plain": [
       "730"
      ]
     },
     "execution_count": 10,
     "metadata": {},
     "output_type": "execute_result"
    }
   ],
   "source": [
    "#Identify the location with the minimum total stock across all products.\n",
    "min_location=total_s.argmin()\n",
    "min_location=total_s[min_location]\n",
    "min_location"
   ]
  },
  {
   "cell_type": "code",
   "execution_count": 11,
   "id": "6bab1e94",
   "metadata": {},
   "outputs": [
    {
     "data": {
      "text/plain": [
       "array([187.5,  57.5, 387.5, 235. ,  85. ])"
      ]
     },
     "execution_count": 11,
     "metadata": {},
     "output_type": "execute_result"
    }
   ],
   "source": [
    "#Compute the average stock per product across all locations.\n",
    "avg_product=arr.mean(axis=1)\n",
    "avg_product"
   ]
  },
  {
   "cell_type": "code",
   "execution_count": 13,
   "id": "441cc17a",
   "metadata": {},
   "outputs": [
    {
     "data": {
      "text/plain": [
       "array([50, 60, 40, 80])"
      ]
     },
     "execution_count": 13,
     "metadata": {},
     "output_type": "execute_result"
    }
   ],
   "source": [
    "#Retrieve the stock levels of Product 2 across all locations.\n",
    "productStock_2=arr[1,:]\n",
    "productStock_2\n"
   ]
  },
  {
   "cell_type": "code",
   "execution_count": 14,
   "id": "651f61e5",
   "metadata": {},
   "outputs": [
    {
     "data": {
      "text/plain": [
       "array([150,  40, 350, 220,  70])"
      ]
     },
     "execution_count": 14,
     "metadata": {},
     "output_type": "execute_result"
    }
   ],
   "source": [
    "#.Extract the stock levels for all products in Location 3.\n",
    "locationStock_3=arr[:,2]\n",
    "locationStock_3"
   ]
  },
  {
   "cell_type": "code",
   "execution_count": 23,
   "id": "aff87d6b",
   "metadata": {},
   "outputs": [
    {
     "data": {
      "text/plain": [
       "array([[400, 500],\n",
       "       [250, 270]])"
      ]
     },
     "execution_count": 23,
     "metadata": {},
     "output_type": "execute_result"
    }
   ],
   "source": [
    "#Find the stock levels of Products 3 and 4 for Locations 2 and 4.\n",
    "pro_loc=arr[2:4,[1,3]]\n",
    "pro_loc"
   ]
  },
  {
   "cell_type": "code",
   "execution_count": 20,
   "id": "ca16805f",
   "metadata": {},
   "outputs": [
    {
     "data": {
      "text/plain": [
       "array([[100, 200],\n",
       "       [ 50,  60],\n",
       "       [300, 400]])"
      ]
     },
     "execution_count": 20,
     "metadata": {},
     "output_type": "execute_result"
    }
   ],
   "source": [
    "#.Extract the stock levels of the first 3 products for the first 2 locations.\n",
    "pro_3Loc_2=arr[:3,:2]\n",
    "pro_3Loc_2"
   ]
  },
  {
   "cell_type": "code",
   "execution_count": 24,
   "id": "817b3db0",
   "metadata": {},
   "outputs": [
    {
     "data": {
      "text/plain": [
       "array([[220, 270],\n",
       "       [ 70, 100]])"
      ]
     },
     "execution_count": 24,
     "metadata": {},
     "output_type": "execute_result"
    }
   ],
   "source": [
    "#Slice the stock levels of the last 2 products for the last 2 locations.\n",
    "pro_loc_last=arr[3:5,2:4]\n",
    "pro_loc_last"
   ]
  },
  {
   "cell_type": "code",
   "execution_count": 25,
   "id": "e6cf8f39",
   "metadata": {
    "scrolled": true
   },
   "outputs": [
    {
     "data": {
      "text/plain": [
       "70"
      ]
     },
     "execution_count": 25,
     "metadata": {},
     "output_type": "execute_result"
    }
   ],
   "source": [
    "#Identify the stock of Product 5 at Location 3.\n",
    "pro_5loc_3=arr[4,2]\n",
    "pro_5loc_3"
   ]
  },
  {
   "cell_type": "code",
   "execution_count": 26,
   "id": "76016174",
   "metadata": {},
   "outputs": [
    {
     "data": {
      "text/plain": [
       "array([100, 220])"
      ]
     },
     "execution_count": 26,
     "metadata": {},
     "output_type": "execute_result"
    }
   ],
   "source": [
    "#Use advanced indexing to find the stock levels of Product 1 at Location 1 and Product 4 at Location 3.\n",
    "stock_level=arr[[0,3],[0,2]]\n",
    "stock_level"
   ]
  },
  {
   "cell_type": "code",
   "execution_count": 27,
   "id": "1e493bf7",
   "metadata": {},
   "outputs": [
    {
     "data": {
      "text/plain": [
       "array([[100, 200, 150, 300],\n",
       "       [ 50,  60,  40, 100],\n",
       "       [300, 400, 350, 500],\n",
       "       [200, 250, 220, 270],\n",
       "       [ 80,  90,  70, 100]])"
      ]
     },
     "execution_count": 27,
     "metadata": {},
     "output_type": "execute_result"
    }
   ],
   "source": [
    "#.Update the stock of Product 2 at Location 4 to 100 units.\n",
    "arr[1,3]=100\n",
    "arr"
   ]
  },
  {
   "cell_type": "code",
   "execution_count": null,
   "id": "841ee968",
   "metadata": {},
   "outputs": [],
   "source": []
  }
 ],
 "metadata": {
  "kernelspec": {
   "display_name": "Python 3 (ipykernel)",
   "language": "python",
   "name": "python3"
  },
  "language_info": {
   "codemirror_mode": {
    "name": "ipython",
    "version": 3
   },
   "file_extension": ".py",
   "mimetype": "text/x-python",
   "name": "python",
   "nbconvert_exporter": "python",
   "pygments_lexer": "ipython3",
   "version": "3.11.4"
  }
 },
 "nbformat": 4,
 "nbformat_minor": 5
}
