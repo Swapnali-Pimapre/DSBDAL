{
 "cells": [
  {
   "cell_type": "code",
   "execution_count": 1,
   "id": "15a93293",
   "metadata": {},
   "outputs": [],
   "source": [
    "import pandas as pd\n",
    "\n",
    "\n"
   ]
  },
  {
   "cell_type": "code",
   "execution_count": 2,
   "id": "c8ddbef4",
   "metadata": {},
   "outputs": [],
   "source": [
    "\n",
    "# List of lists (each sublist represents a row)\n",
    "data = [\n",
    "    [\"Alice\", 25, \"New York\"],\n",
    "    [\"Bob\", 30, \"Los Angeles\"],\n",
    "    [\"Charlie\", 22, \"Chicago\"]\n",
    "]\n",
    "\n"
   ]
  },
  {
   "cell_type": "code",
   "execution_count": 3,
   "id": "8f40cab9",
   "metadata": {},
   "outputs": [],
   "source": [
    "\n",
    "# Convert list to DataFrame\n",
    "df = pd.DataFrame(data, columns=[\"Name\", \"Age\", \"City\"])\n",
    "\n",
    "\n"
   ]
  },
  {
   "cell_type": "code",
   "execution_count": 5,
   "id": "07e09dd5",
   "metadata": {},
   "outputs": [
    {
     "name": "stdout",
     "output_type": "stream",
     "text": [
      "Excel file created successfully!\n"
     ]
    }
   ],
   "source": [
    "file_path = r\"D:\\swap\\List_output.xlsx\" \n",
    "\n",
    "# Save to Excel\n",
    "df.to_excel(file_path, index=False)\n",
    "\n",
    "print(\"Excel file created successfully!\")\n"
   ]
  },
  {
   "cell_type": "code",
   "execution_count": null,
   "id": "46ddf5e0",
   "metadata": {},
   "outputs": [],
   "source": []
  }
 ],
 "metadata": {
  "kernelspec": {
   "display_name": "Python 3 (ipykernel)",
   "language": "python",
   "name": "python3"
  },
  "language_info": {
   "codemirror_mode": {
    "name": "ipython",
    "version": 3
   },
   "file_extension": ".py",
   "mimetype": "text/x-python",
   "name": "python",
   "nbconvert_exporter": "python",
   "pygments_lexer": "ipython3",
   "version": "3.11.4"
  }
 },
 "nbformat": 4,
 "nbformat_minor": 5
}
